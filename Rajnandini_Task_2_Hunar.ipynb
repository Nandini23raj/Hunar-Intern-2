{
  "nbformat": 4,
  "nbformat_minor": 0,
  "metadata": {
    "colab": {
      "provenance": []
    },
    "kernelspec": {
      "name": "python3",
      "display_name": "Python 3"
    },
    "language_info": {
      "name": "python"
    }
  },
  "cells": [
    {
      "cell_type": "code",
      "execution_count": 2,
      "metadata": {
        "colab": {
          "base_uri": "https://localhost:8080/"
        },
        "id": "RGSirpRbkw5x",
        "outputId": "18b5c073-9b3f-4d73-ce58-25f943a7fcf6"
      },
      "outputs": [
        {
          "output_type": "stream",
          "name": "stdout",
          "text": [
            "Encrypted: 5yQzm+kG9voygWAMlg168lSDlymJuiGttW5NWTIxsjDK42OoEXLPku2pkQv0pWrc\n",
            "Decrypted: Hello, secure world!\n"
          ]
        }
      ],
      "source": [
        "from cryptography.hazmat.primitives.ciphers import Cipher, algorithms, modes\n",
        "from cryptography.hazmat.backends import default_backend\n",
        "from cryptography.hazmat.primitives import padding\n",
        "import os\n",
        "import base64\n",
        "\n",
        "# AES encryption and decryption\n",
        "def encrypt_aes(plaintext, key):\n",
        "    # Generate random IV (Initialization Vector)\n",
        "    iv = os.urandom(16)\n",
        "\n",
        "    # Create AES cipher in CBC mode\n",
        "    cipher = Cipher(algorithms.AES(key), modes.CBC(iv), backend=default_backend())\n",
        "\n",
        "    # Pad the plaintext to be a multiple of block size (16 bytes for AES)\n",
        "    padder = padding.PKCS7(128).padder()\n",
        "    padded_data = padder.update(plaintext.encode()) + padder.finalize()\n",
        "\n",
        "    # Encrypt the padded data\n",
        "    encryptor = cipher.encryptor()\n",
        "    ciphertext = encryptor.update(padded_data) + encryptor.finalize()\n",
        "\n",
        "    # Return base64 encoded ciphertext and IV\n",
        "    return base64.b64encode(iv + ciphertext).decode()\n",
        "\n",
        "def decrypt_aes(ciphertext, key):\n",
        "    # Decode the base64 encoded ciphertext\n",
        "    decoded_data = base64.b64decode(ciphertext)\n",
        "\n",
        "    # Extract IV from the decoded data\n",
        "    iv = decoded_data[:16]\n",
        "    ciphertext = decoded_data[16:]\n",
        "\n",
        "    # Create AES cipher in CBC mode\n",
        "    cipher = Cipher(algorithms.AES(key), modes.CBC(iv), backend=default_backend())\n",
        "\n",
        "    # Decrypt the ciphertext\n",
        "    decryptor = cipher.decryptor()\n",
        "    padded_plaintext = decryptor.update(ciphertext) + decryptor.finalize()\n",
        "\n",
        "    # Unpad the plaintext\n",
        "    unpadder = padding.PKCS7(128).unpadder()\n",
        "    plaintext = unpadder.update(padded_plaintext) + unpadder.finalize()\n",
        "\n",
        "    return plaintext.decode()\n",
        "\n",
        "# Example usage\n",
        "key = os.urandom(32)  # AES key must be 16, 24, or 32 bytes long\n",
        "message = \"Hello, secure world!\"\n",
        "\n",
        "encrypted_message = encrypt_aes(message, key)\n",
        "print(\"Encrypted:\", encrypted_message)\n",
        "\n",
        "decrypted_message = decrypt_aes(encrypted_message, key)\n",
        "print(\"Decrypted:\", decrypted_message)\n"
      ]
    },
    {
      "cell_type": "code",
      "source": [
        "pip install cryptography\n"
      ],
      "metadata": {
        "colab": {
          "base_uri": "https://localhost:8080/"
        },
        "id": "I70rnM21lFnT",
        "outputId": "f85b16d9-b5c7-4313-9fa9-fbbe49463638"
      },
      "execution_count": 3,
      "outputs": [
        {
          "output_type": "stream",
          "name": "stdout",
          "text": [
            "Requirement already satisfied: cryptography in /usr/local/lib/python3.10/dist-packages (43.0.3)\n",
            "Requirement already satisfied: cffi>=1.12 in /usr/local/lib/python3.10/dist-packages (from cryptography) (1.17.1)\n",
            "Requirement already satisfied: pycparser in /usr/local/lib/python3.10/dist-packages (from cffi>=1.12->cryptography) (2.22)\n"
          ]
        }
      ]
    },
    {
      "cell_type": "code",
      "source": [
        "from cryptography.hazmat.primitives.ciphers import Cipher, algorithms, modes\n",
        "from cryptography.hazmat.backends import default_backend\n",
        "from cryptography.hazmat.primitives import padding\n",
        "import os\n",
        "import base64\n",
        "\n",
        "# AES encryption and decryption\n",
        "def encrypt_aes(plaintext, key):\n",
        "    # Generate random IV (Initialization Vector)\n",
        "    iv = os.urandom(16)\n",
        "\n",
        "    # Create AES cipher in CBC mode\n",
        "    cipher = Cipher(algorithms.AES(key), modes.CBC(iv), backend=default_backend())\n",
        "\n",
        "    # Pad the plaintext to be a multiple of block size (16 bytes for AES)\n",
        "    padder = padding.PKCS7(128).padder()\n",
        "    padded_data = padder.update(plaintext.encode()) + padder.finalize()\n",
        "\n",
        "    # Encrypt the padded data\n",
        "    encryptor = cipher.encryptor()\n",
        "    ciphertext = encryptor.update(padded_data) + encryptor.finalize()\n",
        "\n",
        "    # Return base64 encoded ciphertext and IV\n",
        "    return base64.b64encode(iv + ciphertext).decode()\n",
        "\n",
        "def decrypt_aes(ciphertext, key):\n",
        "    # Decode the base64 encoded ciphertext\n",
        "    decoded_data = base64.b64decode(ciphertext)\n",
        "\n",
        "    # Extract IV from the decoded data\n",
        "    iv = decoded_data[:16]\n",
        "    ciphertext = decoded_data[16:]\n",
        "\n",
        "    # Create AES cipher in CBC mode\n",
        "    cipher = Cipher(algorithms.AES(key), modes.CBC(iv), backend=default_backend())\n",
        "\n",
        "    # Decrypt the ciphertext\n",
        "    decryptor = cipher.decryptor()\n",
        "    padded_plaintext = decryptor.update(ciphertext) + decryptor.finalize()\n",
        "\n",
        "    # Unpad the plaintext\n",
        "    unpadder = padding.PKCS7(128).unpadder()\n",
        "    plaintext = unpadder.update(padded_plaintext) + unpadder.finalize()\n",
        "\n",
        "    return plaintext.decode()\n",
        "\n",
        "# Example usage\n",
        "key = os.urandom(32)  # AES key must be 16, 24, or 32 bytes long\n",
        "message = \"Hello, secure world!\"\n",
        "\n",
        "encrypted_message = encrypt_aes(message, key)\n",
        "print(\"Encrypted:\", encrypted_message)\n",
        "\n",
        "decrypted_message = decrypt_aes(encrypted_message, key)\n",
        "print(\"Decrypted:\", decrypted_message)\n"
      ],
      "metadata": {
        "colab": {
          "base_uri": "https://localhost:8080/"
        },
        "id": "Vq73LDHjl1Gh",
        "outputId": "bacd03aa-3c33-47b2-d52e-02233bd7b0bc"
      },
      "execution_count": 4,
      "outputs": [
        {
          "output_type": "stream",
          "name": "stdout",
          "text": [
            "Encrypted: yBE7ap9VSOoItImk8AmdJtFXD8Hyo5bQj+iSwGDIu2zDew8DhrgUwvTfV8FG0wJQ\n",
            "Decrypted: Hello, secure world!\n"
          ]
        }
      ]
    }
  ]
}